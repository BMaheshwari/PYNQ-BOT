{
 "cells": [
  {
   "cell_type": "markdown",
   "metadata": {},
   "source": [
    "# Robot Remote Control demo\n",
    "This notebook shows how to control the robot by downloading the existing bit file. \n",
    "\n",
    "### Wheels\n",
    "\n",
    "*  There are 04 motors controlling the 4 wheels of robot.   \n",
    "*  Both motors on right hand side are controlled using same signal and both motors on right hand side are controlled using same signal.\n",
    "* The Forward speed of robot is controlled by a changing the duty cycle of the associated pwm signal.\n",
    "* It should be noted that Robot wouldn't move Forward, Right or Left if Ultrasonic sensor detects an obstruction in the specific distance range. \n",
    "\n",
    "### Ultrasonic Sensor\n",
    "\n",
    "*  The Ultrasonic sensor is used for obstruction detection.\n",
    "*  The obstruction distance range of Ultrasonic sensor is configurable from Jupyter notebook.  The ultrasonic sensor wil stop the robot from moving if it senses any obstruction in that distance range. \n",
    "* The Ultrasonic sensor can be bypassed/enabled using a control register. \n",
    "\n",
    "\n",
    "###  Servo Motors\n",
    "\n",
    "*  There are two servos on the robot. One to set/control the Left/right position of Camera and other to set/control the Up/Down position of Camera. \n",
    "* The Servo PWM IP has 03 registers, 1st to store the counter value for time period, second to store counter value for  duty cycle and third to enable pwm output.\n",
    "*  As per servo specifications it works at time period of 20 msec.  Our sytem clock period is 10 nsec. Therefore, we use counter value of 2000000 to get time period of 20 msec.     \n",
    "\n",
    "\n",
    "### Widgets \n",
    "\n",
    " * The Jupyter notebook provides the functionality of having widgets like On/off buttons,  or sliders to control the robot movement.   We have mapped the control functions on those wigdets for friendly user interface.   \n",
    " * Exectue all the cells of notebook and use the widgets at the end of notebook to control robot movement. \n"
   ]
  },
  {
   "cell_type": "code",
   "execution_count": null,
   "metadata": {},
   "outputs": [],
   "source": [
    "from pynq import Overlay\n",
    "from IPython import display\n",
    "from PIL import Image as PIL_Image\n",
    "import time\n",
    "from ipywidgets import *\n",
    "\n",
    "ol=Overlay(\"/opt/python3.6/lib/python3.6/site-packages/Robot/bitstream/pynq-bot.bit\")\n",
    "ol.download()"
   ]
  },
  {
   "cell_type": "markdown",
   "metadata": {},
   "source": [
    "## Setting the distance and settling time of Ultrasonic sensors at the front\n",
    "\n",
    "*  Distance should always be between 3 and 400cm.  \n",
    "\n",
    "*  The settling time of ultrasonic sensor is also set using a counter value.  \n",
    "\n",
    "*  Distance value is converted into a counter value using a calibration equation related to particular Ultrasonic sensor.\n",
    "\n",
    "*  Bypass or enable the sensor as per requirements below.\n"
   ]
  },
  {
   "cell_type": "code",
   "execution_count": null,
   "metadata": {},
   "outputs": [],
   "source": [
    "distance=10\n",
    "Counter_for_distance= int(62.59*distance-37.78)*100\n",
    "Settling_time_counter=5001200\n",
    "\n",
    "ol.ultrasonic_sensor.write(0x0,Counter_for_distance)\n",
    "ol.ultrasonic_sensor.write(0x4,Settling_time_counter)\n",
    "\n",
    "\n",
    "## Enable the Ultrasonic Sensor:  1 to enable sensor,  0 to bypass the sensor. \n",
    "ol.ultrasonic_sensor.write(0x0C,1)"
   ]
  },
  {
   "cell_type": "markdown",
   "metadata": {},
   "source": [
    "## Setting the duty cycle and time period of robot wheel motors"
   ]
  },
  {
   "cell_type": "code",
   "execution_count": null,
   "metadata": {},
   "outputs": [],
   "source": [
    "# The time period of pwm signal to Wheels motors is being set to 20 msec.\n",
    "ol.Robot_speed_control.write(0x0,2000000)\n",
    "\n",
    "\n",
    "# Setting the Duty cycle to control robot speed. \n",
    "duty=25\n",
    "counter= int(2000000.0*(duty/100))\n",
    "ol.Robot_speed_control.write(0x4,counter)\n",
    "\n",
    "\n",
    "# Enable the Power IC controlling wheel motors\n",
    "ol.Robot_speed_control.write(0x8,1)"
   ]
  },
  {
   "cell_type": "markdown",
   "metadata": {},
   "source": [
    "Here we create the buttons that will control the robot"
   ]
  },
  {
   "cell_type": "code",
   "execution_count": null,
   "metadata": {},
   "outputs": [],
   "source": [
    "def buttons_layout(Name):\n",
    "    Name_of_Button=widgets.Button(description=Name)\n",
    "    Name_of_Button.width = \"120px\"\n",
    "    Name_of_Button.background_color = \"#FFFF00\"\n",
    "    Name_of_Button.color = \"#ffffff\"\n",
    "    return Name_of_Button\n",
    "\n",
    "\n",
    "fwd_button=buttons_layout(\"Forward\")\n",
    "back_button=buttons_layout(\"Backward\")\n",
    "left_button=buttons_layout(\"Left\")\n",
    "right_button =buttons_layout(\"Right\")\n",
    "stop_button=buttons_layout(\"Stop\")\n",
    "dummy=buttons_layout(\"\")"
   ]
  },
  {
   "cell_type": "markdown",
   "metadata": {},
   "source": [
    "Here are the functions that the buttons will execute when pressed. Each function sends a signal to the H-bridge and drives the motors in different ways (forward, backwards, left, right, stop)."
   ]
  },
  {
   "cell_type": "code",
   "execution_count": null,
   "metadata": {},
   "outputs": [],
   "source": [
    "def motor_fwd(b):\n",
    "    ol.robot_direction_control.write(0x0,1)\n",
    "    #time.sleep(0.1) \n",
    "    #ol.robot_direction_control.write(0x0,0)\n",
    "    print(\"Moving Forward\")\n",
    "\n",
    "def motor_back(b):    \n",
    "    ol.robot_direction_control.write(0x0,2)\n",
    "    time.sleep(0.1) \n",
    "    ol.robot_direction_control.write(0x0,0)\n",
    "    print(\"Reversing\")\n",
    "    \n",
    "def motor_right(b):\n",
    "    ol.robot_direction_control.write(0x0,3)\n",
    "    print(\"Turning right and stopping to go forward or backward\")\n",
    "    time.sleep(0.05) \n",
    "    ol.robot_direction_control.write(0x0,0)\n",
    "\n",
    "def motor_left(b):\n",
    "    ol.robot_direction_control.write(0x0,4)\n",
    "    print(\"Turning right and stopping to go forward or backward\")\n",
    "    time.sleep(0.05) \n",
    "    ol.robot_direction_control.write(0x0,0)\n",
    "    \n",
    "def motor_stop(b):\n",
    "    ol.robot_direction_control.write(0x0,0)\n",
    "    print(\"Stopping\")"
   ]
  },
  {
   "cell_type": "markdown",
   "metadata": {},
   "source": [
    "Map buttons to functions - When a click event occurs, the desired function is executed."
   ]
  },
  {
   "cell_type": "code",
   "execution_count": null,
   "metadata": {},
   "outputs": [],
   "source": [
    "fwd_button.on_click(motor_fwd)\n",
    "back_button.on_click(motor_back)\n",
    "left_button.on_click(motor_left)\n",
    "right_button.on_click(motor_right)\n",
    "stop_button.on_click(motor_stop)"
   ]
  },
  {
   "cell_type": "markdown",
   "metadata": {},
   "source": [
    "## Servo Motors \n",
    "\n",
    "* The duty cycle value is in percentages.  The duty cycle determines the position of servo. The position ranges from -90 degrees to +90 degree for range of duty cycle values.\n",
    "\n",
    "* Please see the datasheet of servo motor to determine the duty cycle and time period of pwm signal for setting the position of servo motor.\n",
    "\n",
    "* In our case, we are using time period of 20 msec for PWM signal and specific duty cycle values to control the right/left and up/down position of camera. \n"
   ]
  },
  {
   "cell_type": "code",
   "execution_count": null,
   "metadata": {},
   "outputs": [],
   "source": [
    "# Setting the Time period of PWM signal to be 20 msec. \n",
    "ol.Servo_left_right.write(0x0,2000000)\n",
    "ol.Servo_Up_down.write(0x0,2000000)\n",
    "\n",
    "def on_value_change_1(change):\n",
    "    duty=change['new']\n",
    "    counter= int(2000000.0*(duty/100))\n",
    "    ol.Servo_left_right.write(0x4,counter)\n",
    "    ol.Servo_left_right.write(0x8,1)\n",
    "\n",
    "def on_value_change_2(change):\n",
    "    duty=change['new']\n",
    "    counter= int(2000000.0*(duty/100))\n",
    "    ol.Servo_Up_down.write(0x4,counter)\n",
    "    ol.Servo_Up_down.write(0x8,1)"
   ]
  },
  {
   "cell_type": "markdown",
   "metadata": {},
   "source": [
    "###  Setting the layout of sliders controlling the camera position \n"
   ]
  },
  {
   "cell_type": "code",
   "execution_count": null,
   "metadata": {},
   "outputs": [],
   "source": [
    "def layout_sliders(val, mini, maxi, steps, des, disab, continuous,orient, read, readout):\n",
    "    \n",
    "    slider=widgets.FloatSlider(\n",
    "    value=val,\n",
    "    min  =mini,\n",
    "    max  =maxi,\n",
    "    step=steps,\n",
    "    description=des,\n",
    "    disabled=disab,\n",
    "    continuous_update=continuous,\n",
    "    orientation=orient,\n",
    "    readout=read,\n",
    "    readout_format=readout,)\n",
    "    \n",
    "    return slider\n",
    "\n",
    "\n",
    "cam_left_right = layout_sliders(5.5,3,8,0.1,'Camera Left/Right:', False, True, 'horizontal', True,'.1f')  \n",
    "cam_up_down    = layout_sliders(5.2,4.8,7,0.1,'Camera Up/Down:',False,True,'horizontal',True,'.1f')"
   ]
  },
  {
   "cell_type": "code",
   "execution_count": null,
   "metadata": {},
   "outputs": [],
   "source": [
    "cam_left_right.observe(on_value_change_1, names='value')\n",
    "cam_up_down.observe(on_value_change_2, names='value')"
   ]
  },
  {
   "cell_type": "markdown",
   "metadata": {},
   "source": [
    "## Robot direction control buttons "
   ]
  },
  {
   "cell_type": "code",
   "execution_count": null,
   "metadata": {},
   "outputs": [],
   "source": [
    "HBox([VBox([dummy, \n",
    "            left_button]), \n",
    "      \n",
    "      VBox([fwd_button, \n",
    "            stop_button, \n",
    "            back_button]), \n",
    "      \n",
    "      VBox([dummy, \n",
    "            right_button])], \n",
    "             background_color='#EEE')"
   ]
  },
  {
   "cell_type": "markdown",
   "metadata": {},
   "source": [
    "## Camera position control sliders"
   ]
  },
  {
   "cell_type": "code",
   "execution_count": null,
   "metadata": {},
   "outputs": [],
   "source": [
    "HBox([VBox([cam_left_right]), \n",
    "      VBox([cam_up_down])], \n",
    "             background_color='#EEE')"
   ]
  },
  {
   "cell_type": "markdown",
   "metadata": {},
   "source": [
    "##  Bring Camera in neurtal position\n",
    "\n",
    "Following lines, set the camera back in neutral position. At the startup of pynq board, a signal is generated on the pwm input of servos, which moves the camera.  So running following code will bring it to neutral position."
   ]
  },
  {
   "cell_type": "code",
   "execution_count": null,
   "metadata": {},
   "outputs": [],
   "source": [
    "ol.Servo_Up_down.write(0x4,100000)\n",
    "ol.Servo_Up_down.write(0x8,1)\n",
    "ol.Servo_left_right.write(0x4,110000)\n",
    "ol.Servo_left_right.write(0x8,1)"
   ]
  },
  {
   "cell_type": "markdown",
   "metadata": {},
   "source": [
    "## Stop the  continous  PWM signal to servo motors to avoid battery loss.\n"
   ]
  },
  {
   "cell_type": "code",
   "execution_count": null,
   "metadata": {},
   "outputs": [],
   "source": [
    "ol.Servo_Up_down.write(0x8,0)\n",
    "ol.Servo_left_right.write(0x8,0)"
   ]
  },
  {
   "cell_type": "markdown",
   "metadata": {
    "collapsed": true
   },
   "source": [
    " ## Webcam Check "
   ]
  },
  {
   "cell_type": "code",
   "execution_count": null,
   "metadata": {},
   "outputs": [],
   "source": [
    "orig_img_path = '/home/xilinx/webcam.png'\n",
    "!fswebcam  --no-banner --save {orig_img_path} -r \"640x480\" -d /dev/video0 2> /dev/null # Loading the image from the webcam\n",
    "\n",
    "img = PIL_Image.open(orig_img_path)\n",
    "img"
   ]
  }
 ],
 "metadata": {
  "kernelspec": {
   "display_name": "Python 3",
   "language": "python",
   "name": "python3"
  },
  "language_info": {
   "codemirror_mode": {
    "name": "ipython",
    "version": 3
   },
   "file_extension": ".py",
   "mimetype": "text/x-python",
   "name": "python",
   "nbconvert_exporter": "python",
   "pygments_lexer": "ipython3",
   "version": "3.6.0"
  },
  "widgets": {
   "state": {
    "08890e35f4cc46cfaf55e8abde16110d": {
     "views": [
      {
       "cell_index": 17
      }
     ]
    },
    "e01e015b1d24447898b2e1aa1d79cf97": {
     "views": [
      {
       "cell_index": 16
      }
     ]
    }
   },
   "version": "1.2.0"
  }
 },
 "nbformat": 4,
 "nbformat_minor": 1
}
